{
 "cells": [
  {
   "cell_type": "code",
   "execution_count": 1,
   "metadata": {},
   "outputs": [
    {
     "name": "stdout",
     "output_type": "stream",
     "text": [
      "2.3.0\n",
      "1.18.5\n"
     ]
    }
   ],
   "source": [
    "import numpy as np\n",
    "import tensorflow as tf\n",
    "from tensorflow import keras\n",
    "\n",
    "tf.random.set_seed(777)\n",
    "\n",
    "print(tf.__version__)\n",
    "print(np.__version__)"
   ]
  },
  {
   "cell_type": "code",
   "execution_count": 3,
   "metadata": {},
   "outputs": [
    {
     "name": "stdout",
     "output_type": "stream",
     "text": [
      "Downloading data from https://storage.googleapis.com/tensorflow/tf-keras-datasets/imdb.npz\n",
      "17465344/17464789 [==============================] - 5s 0us/step\n",
      "Training entries: 25000, labels: 25000\n",
      "[1, 14, 22, 16, 43, 530, 973, 1622, 1385, 65, 458, 4468, 66, 3941, 4, 173, 36, 256, 5, 25, 100, 43, 838, 112, 50, 670, 2, 9, 35, 480, 284, 5, 150, 4, 172, 112, 167, 2, 336, 385, 39, 4, 172, 4536, 1111, 17, 546, 38, 13, 447, 4, 192, 50, 16, 6, 147, 2025, 19, 14, 22, 4, 1920, 4613, 469, 4, 22, 71, 87, 12, 16, 43, 530, 38, 76, 15, 13, 1247, 4, 22, 17, 515, 17, 12, 16, 626, 18, 2, 5, 62, 386, 12, 8, 316, 8, 106, 5, 4, 2223, 5244, 16, 480, 66, 3785, 33, 4, 130, 12, 16, 38, 619, 5, 25, 124, 51, 36, 135, 48, 25, 1415, 33, 6, 22, 12, 215, 28, 77, 52, 5, 14, 407, 16, 82, 2, 8, 4, 107, 117, 5952, 15, 256, 4, 2, 7, 3766, 5, 723, 36, 71, 43, 530, 476, 26, 400, 317, 46, 7, 4, 2, 1029, 13, 104, 88, 4, 381, 15, 297, 98, 32, 2071, 56, 26, 141, 6, 194, 7486, 18, 4, 226, 22, 21, 134, 476, 26, 480, 5, 144, 30, 5535, 18, 51, 36, 28, 224, 92, 25, 104, 4, 226, 65, 16, 38, 1334, 88, 12, 16, 283, 5, 16, 4472, 113, 103, 32, 15, 16, 5345, 19, 178, 32]\n"
     ]
    }
   ],
   "source": [
    "#IMDB에서 50000의 영화 리뷰를 가지고 온다\n",
    "#10000개의 빈도수가 높은 단어를 학습시 vector에 사용\n",
    "\n",
    "imdb = keras.datasets.imdb\n",
    "(train_data, train_labels), (test_data, test_labels) = imdb.load_data(num_words = 10000)\n",
    "\n",
    "print(\"Training entries: {}, labels: {}\".format(len(train_data), len(train_labels)))\n",
    "print(train_data[0])"
   ]
  },
  {
   "cell_type": "code",
   "execution_count": 5,
   "metadata": {},
   "outputs": [
    {
     "data": {
      "text/plain": [
       "\"<START> worst mistake of my life br br i picked this movie up at target for 5 because i figured hey it's sandler i can get some cheap laughs i was wrong completely wrong mid way through the film all three of my friends were asleep and i was still suffering worst plot worst script worst movie i have ever seen i wanted to hit my head up against a wall for an hour then i'd stop and you know why because it felt damn good upon bashing my head in i stuck that damn movie in the <UNK> and watched it burn and that felt better than anything else i've ever done it took american psycho army of darkness and kill bill just to get over that crap i hate you sandler for actually going through with this and ruining a whole day of my life\""
      ]
     },
     "execution_count": 5,
     "metadata": {},
     "output_type": "execute_result"
    }
   ],
   "source": [
    "#word를 integer index로 구분\n",
    "word_index = imdb.get_word_index()\n",
    "\n",
    "word_index = {k:(v+3) for k,v in word_index.items()}\n",
    "#공백\n",
    "word_index[\"<PAD>\"] = 0\n",
    "#시작값\n",
    "word_index[\"<START>\"] = 1\n",
    "#모르는 단어일 경우\n",
    "word_index[\"<UNK>\"] = 2\n",
    "#사용하지 않는 단어\n",
    "word_index[\"<UNUSED>\"] = 3\n",
    "\n",
    "reverse_word_index = dict([(value, key) for (key, value) in word_index.items()])\n",
    "\n",
    "def decode_review(text):\n",
    "    return ' '.join([reverse_word_index.get(i, '?') for i in text])\n",
    "\n",
    "decode_review(train_data[4])"
   ]
  },
  {
   "cell_type": "code",
   "execution_count": 7,
   "metadata": {},
   "outputs": [
    {
     "name": "stdout",
     "output_type": "stream",
     "text": [
      "256 256\n",
      "[   1   14   22   16   43  530  973 1622 1385   65  458 4468   66 3941\n",
      "    4  173   36  256    5   25  100   43  838  112   50  670    2    9\n",
      "   35  480  284    5  150    4  172  112  167    2  336  385   39    4\n",
      "  172 4536 1111   17  546   38   13  447    4  192   50   16    6  147\n",
      " 2025   19   14   22    4 1920 4613  469    4   22   71   87   12   16\n",
      "   43  530   38   76   15   13 1247    4   22   17  515   17   12   16\n",
      "  626   18    2    5   62  386   12    8  316    8  106    5    4 2223\n",
      " 5244   16  480   66 3785   33    4  130   12   16   38  619    5   25\n",
      "  124   51   36  135   48   25 1415   33    6   22   12  215   28   77\n",
      "   52    5   14  407   16   82    2    8    4  107  117 5952   15  256\n",
      "    4    2    7 3766    5  723   36   71   43  530  476   26  400  317\n",
      "   46    7    4    2 1029   13  104   88    4  381   15  297   98   32\n",
      " 2071   56   26  141    6  194 7486   18    4  226   22   21  134  476\n",
      "   26  480    5  144   30 5535   18   51   36   28  224   92   25  104\n",
      "    4  226   65   16   38 1334   88   12   16  283    5   16 4472  113\n",
      "  103   32   15   16 5345   19  178   32    0    0    0    0    0    0\n",
      "    0    0    0    0    0    0    0    0    0    0    0    0    0    0\n",
      "    0    0    0    0    0    0    0    0    0    0    0    0    0    0\n",
      "    0    0    0    0]\n"
     ]
    }
   ],
   "source": [
    "#data를 기준으로 분류 모델 만들기\n",
    "#길이는 pad값을 주어 256으로 맞춰줌\n",
    "train_data = keras.preprocessing.sequence.pad_sequences(train_data,\n",
    "                                                       value = word_index[\"<PAD>\"],\n",
    "                                                       padding = 'post',\n",
    "                                                       maxlen = 256)\n",
    "test_data = keras.preprocessing.sequence.pad_sequences(test_data,\n",
    "                                                       value = word_index[\"<PAD>\"],\n",
    "                                                       padding = 'post',\n",
    "                                                       maxlen = 256)\n",
    "\n",
    "print(len(train_data[0]), len(test_data[0]))\n",
    "print(train_data[0])"
   ]
  },
  {
   "cell_type": "code",
   "execution_count": 10,
   "metadata": {},
   "outputs": [
    {
     "name": "stdout",
     "output_type": "stream",
     "text": [
      "Model: \"sequential_2\"\n",
      "_________________________________________________________________\n",
      "Layer (type)                 Output Shape              Param #   \n",
      "=================================================================\n",
      "embedding_1 (Embedding)      (None, None, 16)          160000    \n",
      "_________________________________________________________________\n",
      "global_average_pooling1d (Gl (None, 16)                0         \n",
      "_________________________________________________________________\n",
      "dense (Dense)                (None, 16)                272       \n",
      "_________________________________________________________________\n",
      "dense_1 (Dense)              (None, 1)                 17        \n",
      "=================================================================\n",
      "Total params: 160,289\n",
      "Trainable params: 160,289\n",
      "Non-trainable params: 0\n",
      "_________________________________________________________________\n"
     ]
    }
   ],
   "source": [
    "#model에 대한 정의\n",
    "#입력 size와 학습시킬 layer의 크기, activation function 정의\n",
    "\n",
    "#입력 size\n",
    "vocab_size = 10000\n",
    "\n",
    "#model 정의\n",
    "model = keras.Sequential()\n",
    "model.add(keras.layers.Embedding(vocab_size, 16))\n",
    "model.add(keras.layers.GlobalAveragePooling1D())\n",
    "model.add(keras.layers.Dense(16, activation = tf.nn.relu))\n",
    "model.add(keras.layers.Dense(1, activation = tf.nn.sigmoid))\n",
    "\n",
    "model.summary()"
   ]
  },
  {
   "cell_type": "code",
   "execution_count": 11,
   "metadata": {},
   "outputs": [],
   "source": [
    "#adam optimizer, CE loss 선언\n",
    "model.compile(optimizer = 'adam',\n",
    "             loss = 'binary_crossentropy',\n",
    "             metrics = ['accuracy'])"
   ]
  },
  {
   "cell_type": "code",
   "execution_count": 12,
   "metadata": {},
   "outputs": [
    {
     "name": "stdout",
     "output_type": "stream",
     "text": [
      "Epoch 1/40\n",
      "30/30 [==============================] - 2s 50ms/step - loss: 0.6916 - accuracy: 0.5673 - val_loss: 0.6895 - val_accuracy: 0.6564\n",
      "Epoch 2/40\n",
      "30/30 [==============================] - 2s 51ms/step - loss: 0.6852 - accuracy: 0.7347 - val_loss: 0.6806 - val_accuracy: 0.7087\n",
      "Epoch 3/40\n",
      "30/30 [==============================] - 1s 48ms/step - loss: 0.6720 - accuracy: 0.7507 - val_loss: 0.6642 - val_accuracy: 0.7210\n",
      "Epoch 4/40\n",
      "30/30 [==============================] - 2s 53ms/step - loss: 0.6492 - accuracy: 0.7607 - val_loss: 0.6381 - val_accuracy: 0.7668\n",
      "Epoch 5/40\n",
      "30/30 [==============================] - 2s 57ms/step - loss: 0.6153 - accuracy: 0.7868 - val_loss: 0.6018 - val_accuracy: 0.7712\n",
      "Epoch 6/40\n",
      "30/30 [==============================] - 1s 45ms/step - loss: 0.5721 - accuracy: 0.8097 - val_loss: 0.5605 - val_accuracy: 0.8040\n",
      "Epoch 7/40\n",
      "30/30 [==============================] - 1s 36ms/step - loss: 0.5241 - accuracy: 0.8295 - val_loss: 0.5163 - val_accuracy: 0.8192\n",
      "Epoch 8/40\n",
      "30/30 [==============================] - 1s 44ms/step - loss: 0.4768 - accuracy: 0.8483 - val_loss: 0.4762 - val_accuracy: 0.8329\n",
      "Epoch 9/40\n",
      "30/30 [==============================] - 2s 54ms/step - loss: 0.4324 - accuracy: 0.8637 - val_loss: 0.4379 - val_accuracy: 0.8455\n",
      "Epoch 10/40\n",
      "30/30 [==============================] - 2s 61ms/step - loss: 0.3936 - accuracy: 0.8746 - val_loss: 0.4076 - val_accuracy: 0.8517\n",
      "Epoch 11/40\n",
      "30/30 [==============================] - 2s 51ms/step - loss: 0.3609 - accuracy: 0.8831 - val_loss: 0.3826 - val_accuracy: 0.8600\n",
      "Epoch 12/40\n",
      "30/30 [==============================] - 1s 37ms/step - loss: 0.3331 - accuracy: 0.8908 - val_loss: 0.3627 - val_accuracy: 0.8653\n",
      "Epoch 13/40\n",
      "30/30 [==============================] - 1s 36ms/step - loss: 0.3098 - accuracy: 0.8965 - val_loss: 0.3474 - val_accuracy: 0.8688\n",
      "Epoch 14/40\n",
      "30/30 [==============================] - 2s 60ms/step - loss: 0.2899 - accuracy: 0.9026 - val_loss: 0.3341 - val_accuracy: 0.8731\n",
      "Epoch 15/40\n",
      "30/30 [==============================] - 2s 53ms/step - loss: 0.2725 - accuracy: 0.9089 - val_loss: 0.3236 - val_accuracy: 0.8748\n",
      "Epoch 16/40\n",
      "30/30 [==============================] - 1s 46ms/step - loss: 0.2569 - accuracy: 0.9118 - val_loss: 0.3145 - val_accuracy: 0.8775\n",
      "Epoch 17/40\n",
      "30/30 [==============================] - 1s 38ms/step - loss: 0.2430 - accuracy: 0.9174 - val_loss: 0.3077 - val_accuracy: 0.8788\n",
      "Epoch 18/40\n",
      "30/30 [==============================] - 1s 44ms/step - loss: 0.2305 - accuracy: 0.9217 - val_loss: 0.3018 - val_accuracy: 0.8813\n",
      "Epoch 19/40\n",
      "30/30 [==============================] - 2s 53ms/step - loss: 0.2191 - accuracy: 0.9246 - val_loss: 0.2972 - val_accuracy: 0.8815\n",
      "Epoch 20/40\n",
      "30/30 [==============================] - 2s 58ms/step - loss: 0.2085 - accuracy: 0.9289 - val_loss: 0.2938 - val_accuracy: 0.8826\n",
      "Epoch 21/40\n",
      "30/30 [==============================] - 2s 52ms/step - loss: 0.1988 - accuracy: 0.9335 - val_loss: 0.2909 - val_accuracy: 0.8829\n",
      "Epoch 22/40\n",
      "30/30 [==============================] - 1s 45ms/step - loss: 0.1901 - accuracy: 0.9364 - val_loss: 0.2880 - val_accuracy: 0.8833\n",
      "Epoch 23/40\n",
      "30/30 [==============================] - 2s 50ms/step - loss: 0.1817 - accuracy: 0.9403 - val_loss: 0.2863 - val_accuracy: 0.8838\n",
      "Epoch 24/40\n",
      "30/30 [==============================] - 1s 39ms/step - loss: 0.1737 - accuracy: 0.9444 - val_loss: 0.2853 - val_accuracy: 0.8839\n",
      "Epoch 25/40\n",
      "30/30 [==============================] - 2s 61ms/step - loss: 0.1662 - accuracy: 0.9477 - val_loss: 0.2846 - val_accuracy: 0.8849\n",
      "Epoch 26/40\n",
      "30/30 [==============================] - 2s 53ms/step - loss: 0.1597 - accuracy: 0.9498 - val_loss: 0.2845 - val_accuracy: 0.8835\n",
      "Epoch 27/40\n",
      "30/30 [==============================] - 1s 41ms/step - loss: 0.1527 - accuracy: 0.9529 - val_loss: 0.2844 - val_accuracy: 0.8863\n",
      "Epoch 28/40\n",
      "30/30 [==============================] - 1s 39ms/step - loss: 0.1470 - accuracy: 0.9553 - val_loss: 0.2849 - val_accuracy: 0.8842\n",
      "Epoch 29/40\n",
      "30/30 [==============================] - 2s 58ms/step - loss: 0.1410 - accuracy: 0.9577 - val_loss: 0.2859 - val_accuracy: 0.8852\n",
      "Epoch 30/40\n",
      "30/30 [==============================] - 2s 54ms/step - loss: 0.1355 - accuracy: 0.9599 - val_loss: 0.2874 - val_accuracy: 0.8843\n",
      "Epoch 31/40\n",
      "30/30 [==============================] - 2s 77ms/step - loss: 0.1302 - accuracy: 0.9621 - val_loss: 0.2882 - val_accuracy: 0.8856\n",
      "Epoch 32/40\n",
      "30/30 [==============================] - 2s 67ms/step - loss: 0.1251 - accuracy: 0.9641 - val_loss: 0.2901 - val_accuracy: 0.8846\n",
      "Epoch 33/40\n",
      "30/30 [==============================] - 2s 62ms/step - loss: 0.1203 - accuracy: 0.9667 - val_loss: 0.2917 - val_accuracy: 0.8855\n",
      "Epoch 34/40\n",
      "30/30 [==============================] - 2s 68ms/step - loss: 0.1161 - accuracy: 0.9677 - val_loss: 0.2944 - val_accuracy: 0.8836\n",
      "Epoch 35/40\n",
      "30/30 [==============================] - 2s 67ms/step - loss: 0.1116 - accuracy: 0.9698 - val_loss: 0.2965 - val_accuracy: 0.8842\n",
      "Epoch 36/40\n",
      "30/30 [==============================] - 2s 76ms/step - loss: 0.1075 - accuracy: 0.9709 - val_loss: 0.2990 - val_accuracy: 0.8844\n",
      "Epoch 37/40\n",
      "30/30 [==============================] - 2s 53ms/step - loss: 0.1037 - accuracy: 0.9719 - val_loss: 0.3014 - val_accuracy: 0.8839\n",
      "Epoch 38/40\n",
      "30/30 [==============================] - 1s 44ms/step - loss: 0.0995 - accuracy: 0.9738 - val_loss: 0.3039 - val_accuracy: 0.8842\n",
      "Epoch 39/40\n",
      "30/30 [==============================] - 1s 43ms/step - loss: 0.0958 - accuracy: 0.9753 - val_loss: 0.3089 - val_accuracy: 0.8825\n",
      "Epoch 40/40\n",
      "30/30 [==============================] - 1s 46ms/step - loss: 0.0926 - accuracy: 0.9773 - val_loss: 0.3104 - val_accuracy: 0.8831\n"
     ]
    }
   ],
   "source": [
    "#모델을 평가할 test data 정의\n",
    "#10000을 기준으로 학습\n",
    "\n",
    "x_val = train_data[:10000]\n",
    "partial_x_train = train_data[10000:]\n",
    "\n",
    "y_val = train_labels[:10000]\n",
    "partial_y_train = train_labels[10000:]\n",
    "\n",
    "history = model.fit(partial_x_train,\n",
    "                   partial_y_train,\n",
    "                   epochs = 40,\n",
    "                   batch_size = 512,\n",
    "                   validation_data = (x_val, y_val),\n",
    "                   verbose = 1)"
   ]
  },
  {
   "cell_type": "code",
   "execution_count": 14,
   "metadata": {},
   "outputs": [
    {
     "name": "stdout",
     "output_type": "stream",
     "text": [
      "782/782 [==============================] - 3s 4ms/step - loss: 0.3307 - accuracy: 0.8727: 0s - loss: 0.3280 - ac\n",
      "[0.3306798040866852, 0.8726800084114075]\n"
     ]
    }
   ],
   "source": [
    "results = model.evaluate(test_data, test_labels)\n",
    "print(results)"
   ]
  },
  {
   "cell_type": "code",
   "execution_count": null,
   "metadata": {},
   "outputs": [],
   "source": []
  }
 ],
 "metadata": {
  "kernelspec": {
   "display_name": "Python 3",
   "language": "python",
   "name": "python3"
  },
  "language_info": {
   "codemirror_mode": {
    "name": "ipython",
    "version": 3
   },
   "file_extension": ".py",
   "mimetype": "text/x-python",
   "name": "python",
   "nbconvert_exporter": "python",
   "pygments_lexer": "ipython3",
   "version": "3.8.3"
  }
 },
 "nbformat": 4,
 "nbformat_minor": 4
}
