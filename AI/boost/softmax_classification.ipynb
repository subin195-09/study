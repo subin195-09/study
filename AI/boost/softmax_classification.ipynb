{
 "cells": [
  {
   "cell_type": "code",
   "execution_count": 2,
   "metadata": {},
   "outputs": [
    {
     "name": "stdout",
     "output_type": "stream",
     "text": [
      "2.3.0\n",
      "1.18.5\n"
     ]
    }
   ],
   "source": [
    "import tensorflow as tf\n",
    "import numpy as np\n",
    "\n",
    "print(tf.__version__)\n",
    "print(np.__version__)\n",
    "\n",
    "tf.random.set_seed(777)"
   ]
  },
  {
   "cell_type": "code",
   "execution_count": 4,
   "metadata": {},
   "outputs": [],
   "source": [
    "x_data = [[1, 2, 1, 1],\n",
    "          [2, 1, 3, 2],\n",
    "          [3, 1, 3, 4],\n",
    "          [4, 1, 5, 5],\n",
    "          [1, 7, 5, 5],\n",
    "          [1, 2, 5, 6],\n",
    "          [1, 6, 6, 6],\n",
    "          [1, 7, 7, 7]]\n",
    "y_data = [[0, 0, 1],\n",
    "          [0, 0, 1],\n",
    "          [0, 0, 1],\n",
    "          [0, 1, 0],\n",
    "          [0, 1, 0],\n",
    "          [0, 1, 0],\n",
    "          [1, 0, 0],\n",
    "          [1, 0, 0]]\n",
    "\n",
    "#data를 list로 선언 후 array로 바꿔준다\n",
    "x_data = np.asarray(x_data, dtype = np.float32)\n",
    "y_data = np.asarray(y_data, dtype = np.float32)"
   ]
  },
  {
   "cell_type": "code",
   "execution_count": 9,
   "metadata": {},
   "outputs": [
    {
     "name": "stdout",
     "output_type": "stream",
     "text": [
      "(8, 4)\n",
      "(8, 3)\n"
     ]
    }
   ],
   "source": [
    "#class의 개수\n",
    "#3가지 중 하나로 구분한다\n",
    "nb_classes = 3\n",
    "\n",
    "print(x_data.shape)\n",
    "print(y_data.shape)"
   ]
  },
  {
   "cell_type": "code",
   "execution_count": 12,
   "metadata": {},
   "outputs": [
    {
     "name": "stdout",
     "output_type": "stream",
     "text": [
      "<tf.Variable 'weight:0' shape=(4, 3) dtype=float32, numpy=\n",
      "array([[ 1.7266569 ,  0.93108284, -0.43655586],\n",
      "       [-1.2439743 , -0.45300987, -0.51410425],\n",
      "       [ 1.2241375 ,  2.1267812 , -1.6276842 ],\n",
      "       [-0.11408016, -0.08377677,  0.12709002]], dtype=float32)> <tf.Variable 'bias:0' shape=(3,) dtype=float32, numpy=array([-0.27697366, -2.3162541 ,  1.486129  ], dtype=float32)>\n"
     ]
    }
   ],
   "source": [
    "#Weight, bias setting\n",
    "W = tf.Variable(tf.random.normal((4, nb_classes)), name = 'weight')\n",
    "b = tf.Variable(tf.random.normal((nb_classes, )), name = 'bias')\n",
    "\n",
    "variables = [W, b]\n",
    "\n",
    "print(W, b)"
   ]
  },
  {
   "cell_type": "code",
   "execution_count": 14,
   "metadata": {},
   "outputs": [
    {
     "name": "stdout",
     "output_type": "stream",
     "text": [
      "tf.Tensor(\n",
      "[[5.1594371e-01 3.7466004e-01 1.0939622e-01]\n",
      " [5.1771075e-01 4.8226342e-01 2.5805661e-05]\n",
      " [6.9122940e-01 3.0876419e-01 6.4158853e-06]\n",
      " [4.4173509e-01 5.5826491e-01 1.9998740e-09]\n",
      " [6.3159358e-04 9.9936825e-01 1.5016340e-07]\n",
      " [3.1004906e-02 9.6899486e-01 2.4400759e-07]\n",
      " [5.4803921e-04 9.9945194e-01 4.6149586e-09]\n",
      " [9.7796321e-05 9.9990225e-01 1.2556407e-10]], shape=(8, 3), dtype=float32)\n"
     ]
    }
   ],
   "source": [
    "def hypothesis(X):\n",
    "    return tf.nn.softmax(tf.matmul(X, W) + b)\n",
    "\n",
    "print(hypothesis(x_data))"
   ]
  },
  {
   "cell_type": "code",
   "execution_count": 15,
   "metadata": {},
   "outputs": [
    {
     "name": "stdout",
     "output_type": "stream",
     "text": [
      "tf.Tensor([[9.9697566e-01 3.0241790e-03 1.1561164e-07]], shape=(1, 3), dtype=float32)\n"
     ]
    }
   ],
   "source": [
    "#softmax onehot test\n",
    "sample_db = [[8,2,1,4]]\n",
    "sample_db = np.asarray(sample_db, dtype=np.float32)\n",
    "\n",
    "print(hypothesis(sample_db))"
   ]
  },
  {
   "cell_type": "code",
   "execution_count": 16,
   "metadata": {},
   "outputs": [
    {
     "name": "stdout",
     "output_type": "stream",
     "text": [
      "tf.Tensor(5.2614083, shape=(), dtype=float32)\n"
     ]
    }
   ],
   "source": [
    "#softmax cost function = -y * log(hypo) ??\n",
    "#강의 다시 듣기\n",
    "def cost_fn(X, Y):\n",
    "    logits = hypothesis(X)\n",
    "    cost = -tf.reduce_sum(Y * tf.math.log(logits), axis = 1)\n",
    "    cost_mean = tf.reduce_mean(cost)\n",
    "    return cost_mean\n",
    "\n",
    "print(cost_fn(x_data, y_data))"
   ]
  },
  {
   "cell_type": "code",
   "execution_count": 17,
   "metadata": {},
   "outputs": [
    {
     "name": "stdout",
     "output_type": "stream",
     "text": [
      "tf.Tensor(6.0, shape=(), dtype=float32)\n"
     ]
    }
   ],
   "source": [
    "# ??\n",
    "x = tf.constant(3.0)\n",
    "with tf.GradientTape() as g:\n",
    "    g.watch(x)\n",
    "    y = x * x\n",
    "dy_dx = g.gradient(y, x)\n",
    "print(dy_dx)"
   ]
  },
  {
   "cell_type": "code",
   "execution_count": 18,
   "metadata": {},
   "outputs": [
    {
     "name": "stdout",
     "output_type": "stream",
     "text": [
      "[<tf.Tensor: shape=(4, 3), dtype=float32, numpy=\n",
      "array([[ 0.42803454,  0.30828205, -0.73631656],\n",
      "       [-1.2808793 ,  1.7535259 , -0.47264674],\n",
      "       [-0.8108007 ,  1.6721138 , -0.86131316],\n",
      "       [-0.78523517,  1.6465507 , -0.86131555]], dtype=float32)>, <tf.Tensor: shape=(3,), dtype=float32, numpy=array([ 0.02486265,  0.33645874, -0.3613214 ], dtype=float32)>]\n"
     ]
    }
   ],
   "source": [
    "def grad_fn(X, Y):\n",
    "    with tf.GradientTape() as tape:\n",
    "        loss = cost_fn(X, Y)\n",
    "        grads = tape.gradient(loss, variables)\n",
    "        return grads\n",
    "print(grad_fn(x_data, y_data))"
   ]
  },
  {
   "cell_type": "code",
   "execution_count": 20,
   "metadata": {},
   "outputs": [
    {
     "name": "stdout",
     "output_type": "stream",
     "text": [
      "Loss at epoch 1: 4.102696\n",
      "Loss at epoch 100: 0.646512\n",
      "Loss at epoch 200: 0.568315\n",
      "Loss at epoch 300: 0.515267\n",
      "Loss at epoch 400: 0.468391\n",
      "Loss at epoch 500: 0.423284\n",
      "Loss at epoch 600: 0.378449\n",
      "Loss at epoch 700: 0.333312\n",
      "Loss at epoch 800: 0.287950\n",
      "Loss at epoch 900: 0.244896\n",
      "Loss at epoch 1000: 0.220589\n",
      "Loss at epoch 1100: 0.210063\n",
      "Loss at epoch 1200: 0.200549\n",
      "Loss at epoch 1300: 0.191842\n",
      "Loss at epoch 1400: 0.183843\n",
      "Loss at epoch 1500: 0.176471\n",
      "Loss at epoch 1600: 0.169653\n",
      "Loss at epoch 1700: 0.163332\n",
      "Loss at epoch 1800: 0.157454\n",
      "Loss at epoch 1900: 0.151976\n",
      "Loss at epoch 2000: 0.146857\n"
     ]
    }
   ],
   "source": [
    "#학습 시키기\n",
    "def fit(X, Y, epochs = 2000, verbose = 100):\n",
    "    optimizer = tf.keras.optimizers.SGD(learning_rate = 0.1)\n",
    "    \n",
    "    for i in range(epochs):\n",
    "        grads = grad_fn(X, Y)\n",
    "        optimizer.apply_gradients(zip(grads, variables))\n",
    "        if (i == 0) | ((i + 1) % verbose == 0):\n",
    "            print('Loss at epoch %d: %f' %(i+1, cost_fn(X, Y).numpy()))\n",
    "\n",
    "fit(x_data, y_data)"
   ]
  },
  {
   "cell_type": "code",
   "execution_count": 21,
   "metadata": {},
   "outputs": [
    {
     "name": "stdout",
     "output_type": "stream",
     "text": [
      "tf.Tensor([[0.00135109 0.06746072 0.9311882 ]], shape=(1, 3), dtype=float32)\n",
      "tf.Tensor([2], shape=(1,), dtype=int64)\n"
     ]
    }
   ],
   "source": [
    "#prediction check\n",
    "\n",
    "sample_data = [[2, 1, 3, 2]] #answer_label [[0,0,1]]\n",
    "sample_data = np.asarray(sample_data, dtype = np.float32)\n",
    "\n",
    "a = hypothesis(sample_data)\n",
    "print (a)\n",
    "print(tf.argmax(a, 1))"
   ]
  },
  {
   "cell_type": "code",
   "execution_count": 22,
   "metadata": {},
   "outputs": [
    {
     "name": "stdout",
     "output_type": "stream",
     "text": [
      "tf.Tensor(\n",
      "[[3.9563643e-06 1.3164548e-03 9.9867958e-01]\n",
      " [1.3510946e-03 6.7460753e-02 9.3118823e-01]\n",
      " [2.9748232e-08 1.4705136e-01 8.5294861e-01]\n",
      " [7.3428276e-07 8.6910748e-01 1.3089177e-01]\n",
      " [2.5018707e-01 7.3944026e-01 1.0372761e-02]\n",
      " [1.3216078e-01 8.6721033e-01 6.2882266e-04]\n",
      " [7.5919098e-01 2.4070956e-01 9.9491197e-05]\n",
      " [9.2029667e-01 7.9701401e-02 1.9764948e-06]], shape=(8, 3), dtype=float32)\n"
     ]
    }
   ],
   "source": [
    "b = hypothesis(x_data)\n",
    "print(b)"
   ]
  },
  {
   "cell_type": "code",
   "execution_count": 23,
   "metadata": {},
   "outputs": [
    {
     "name": "stdout",
     "output_type": "stream",
     "text": [
      "tf.Tensor([2 2 2 1 1 1 0 0], shape=(8,), dtype=int64)\n"
     ]
    }
   ],
   "source": [
    "print(tf.argmax(b, 1))"
   ]
  },
  {
   "cell_type": "code",
   "execution_count": 24,
   "metadata": {},
   "outputs": [
    {
     "name": "stdout",
     "output_type": "stream",
     "text": [
      "tf.Tensor([2 2 2 1 1 1 0 0], shape=(8,), dtype=int64)\n"
     ]
    }
   ],
   "source": [
    "print(tf.argmax(y_data, 1))"
   ]
  },
  {
   "cell_type": "code",
   "execution_count": null,
   "metadata": {},
   "outputs": [],
   "source": []
  },
  {
   "cell_type": "code",
   "execution_count": 25,
   "metadata": {},
   "outputs": [
    {
     "name": "stdout",
     "output_type": "stream",
     "text": [
      "Loss as epoch 1: 7.899120\n",
      "Loss as epoch 500: 0.493022\n",
      "Loss as epoch 1000: 0.268561\n",
      "Loss as epoch 1500: 0.194537\n",
      "Loss as epoch 2000: 0.159601\n"
     ]
    }
   ],
   "source": [
    "#Convert as Class\n",
    "\n",
    "class softmax_classifer(tf.keras.Model):\n",
    "    def __init__(self, nb_classes):\n",
    "        super(softmax_classifer, self).__init__()\n",
    "        self.W = tf.Variable(tf.random.normal((4, nb_classes)),name = 'weight')\n",
    "        self.b = tf.Variable(tf.random.normal((nb_classes,)), name = 'bias')\n",
    "        \n",
    "    def softmax_regression(self, X):\n",
    "        return tf.nn.softmax(tf.matmul(X, self.W) + self.b)\n",
    "    \n",
    "    def cost_fn(self, X, Y):\n",
    "        logits = self.softmax_regression(X)\n",
    "        cost = tf.reduce_mean(-tf.reduce_sum(Y * tf.math.log(logits), axis = 1))\n",
    "        return cost\n",
    "    \n",
    "    def grad_fn(self, X, Y):\n",
    "        with tf.GradientTape() as tape:\n",
    "            cost = self.cost_fn(x_data, y_data)\n",
    "            grads = tape.gradient(cost, self.variables)\n",
    "            return grads\n",
    "    \n",
    "    def fit(self, X, Y, epochs = 2000, verbose = 500):\n",
    "        optimizer = tf.keras.optimizers.SGD(learning_rate = 0.1)\n",
    "        \n",
    "        for i in range(epochs):\n",
    "            grads = self.grad_fn(X, Y)\n",
    "            optimizer.apply_gradients(zip(grads, self.variables))\n",
    "            if (i == 0) | ((i + 1) % verbose == 0):\n",
    "                print('Loss as epoch %d: %f' %(i + 1, self.cost_fn(X,Y).numpy()))\n",
    "\n",
    "model = softmax_classifer(nb_classes)\n",
    "model.fit(x_data, y_data)"
   ]
  }
 ],
 "metadata": {
  "kernelspec": {
   "display_name": "Python 3",
   "language": "python",
   "name": "python3"
  },
  "language_info": {
   "codemirror_mode": {
    "name": "ipython",
    "version": 3
   },
   "file_extension": ".py",
   "mimetype": "text/x-python",
   "name": "python",
   "nbconvert_exporter": "python",
   "pygments_lexer": "ipython3",
   "version": "3.8.3"
  }
 },
 "nbformat": 4,
 "nbformat_minor": 4
}
